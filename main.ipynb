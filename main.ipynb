{
 "cells": [
  {
   "cell_type": "markdown",
   "id": "bb02d10e-b557-445b-9992-26621bcc0e06",
   "metadata": {},
   "source": [
    "# Group-11 Major Project - RULE-BASED HINDI TO INDIAN SIGN LANGUAGE TRANSLATION SYSTEM\n",
    "### Done by\n",
    "1. Abhishek Srivastava (2100520100003)\n",
    "2. Govind Singh Tomar (2100520100029)\n",
    "3. Prashant Kumar Singh (2100520100049)"
   ]
  },
  {
   "cell_type": "markdown",
   "id": "6fa39dad",
   "metadata": {},
   "source": [
    "## Setup and Library Imports"
   ]
  },
  {
   "cell_type": "code",
   "execution_count": 2,
   "id": "838562f8-d416-4c8d-9988-0da61144732f",
   "metadata": {},
   "outputs": [
    {
     "name": "stderr",
     "output_type": "stream",
     "text": [
      "c:\\Users\\user\\AppData\\Local\\Programs\\Python\\Python313\\Lib\\site-packages\\tqdm\\auto.py:21: TqdmWarning: IProgress not found. Please update jupyter and ipywidgets. See https://ipywidgets.readthedocs.io/en/stable/user_install.html\n",
      "  from .autonotebook import tqdm as notebook_tqdm\n"
     ]
    }
   ],
   "source": [
    "# import statements\n",
    "from networkx.drawing.nx_pydot import graphviz_layout\n",
    "import matplotlib.font_manager as fm\n",
    "import matplotlib.pyplot as plt\n",
    "import networkx as nx\n",
    "import stanza\n",
    "import nlp\n",
    "import pandas as pd\n",
    "import ast\n",
    "import re\n",
    "import pyiwn\n",
    "from nltk.corpus import wordnet as wn\n",
    "import nltk\n",
    "from IPython.display import Video, display\n",
    "import functools"
   ]
  },
  {
   "cell_type": "markdown",
   "id": "dfb3fcb2-4549-4e7d-ba44-5e4683fec551",
   "metadata": {},
   "source": [
    "# Input the sentence"
   ]
  },
  {
   "cell_type": "code",
   "execution_count": 3,
   "id": "50408616-55ff-4321-803c-03e5ec85dba9",
   "metadata": {},
   "outputs": [],
   "source": [
    "hindi_sentence = input('Enter the hindi sentence : ')"
   ]
  },
  {
   "cell_type": "markdown",
   "id": "ce051582-db9b-4947-81c1-7623f666f2cb",
   "metadata": {},
   "source": [
    "# POS Tagging and Dependency Parsing - STANZA"
   ]
  },
  {
   "cell_type": "code",
   "execution_count": 4,
   "id": "aea6b3b4-3730-4745-9f15-a0d62dca1655",
   "metadata": {},
   "outputs": [
    {
     "name": "stderr",
     "output_type": "stream",
     "text": [
      "2025-05-11 17:13:13 INFO: Checking for updates to resources.json in case models have been updated.  Note: this behavior can be turned off with download_method=None or download_method=DownloadMethod.REUSE_RESOURCES\n",
      "2025-05-11:17:13:13,212 INFO     [core.py:207] Checking for updates to resources.json in case models have been updated.  Note: this behavior can be turned off with download_method=None or download_method=DownloadMethod.REUSE_RESOURCES\n",
      "Downloading https://raw.githubusercontent.com/stanfordnlp/stanza-resources/main/resources_1.10.0.json: 426kB [00:00, 15.5MB/s]                    \n",
      "2025-05-11 17:13:13 INFO: Downloaded file to C:\\Users\\user\\stanza_resources\\resources.json\n",
      "2025-05-11:17:13:13,407 INFO     [common.py:161] Downloaded file to C:\\Users\\user\\stanza_resources\\resources.json\n",
      "2025-05-11 17:13:14 INFO: Loading these models for language: hi (Hindi):\n",
      "=============================\n",
      "| Processor | Package       |\n",
      "-----------------------------\n",
      "| tokenize  | hdtb          |\n",
      "| pos       | hdtb_charlm   |\n",
      "| lemma     | hdtb_nocharlm |\n",
      "| depparse  | hdtb_charlm   |\n",
      "=============================\n",
      "\n",
      "2025-05-11:17:13:14,643 INFO     [core.py:271] Loading these models for language: hi (Hindi):\n",
      "=============================\n",
      "| Processor | Package       |\n",
      "-----------------------------\n",
      "| tokenize  | hdtb          |\n",
      "| pos       | hdtb_charlm   |\n",
      "| lemma     | hdtb_nocharlm |\n",
      "| depparse  | hdtb_charlm   |\n",
      "=============================\n",
      "\n",
      "2025-05-11 17:13:14 INFO: Using device: cpu\n",
      "2025-05-11:17:13:14,648 INFO     [core.py:290] Using device: cpu\n",
      "2025-05-11 17:13:14 INFO: Loading: tokenize\n",
      "2025-05-11:17:13:14,651 INFO     [core.py:296] Loading: tokenize\n",
      "2025-05-11 17:13:17 INFO: Loading: pos\n",
      "2025-05-11:17:13:17,530 INFO     [core.py:296] Loading: pos\n",
      "2025-05-11 17:13:19 INFO: Loading: lemma\n",
      "2025-05-11:17:13:19,895 INFO     [core.py:296] Loading: lemma\n",
      "2025-05-11 17:13:20 INFO: Loading: depparse\n",
      "2025-05-11:17:13:20,408 INFO     [core.py:296] Loading: depparse\n",
      "2025-05-11 17:13:21 INFO: Done loading processors!\n",
      "2025-05-11:17:13:21,87 INFO     [core.py:348] Done loading processors!\n"
     ]
    },
    {
     "name": "stdout",
     "output_type": "stream",
     "text": [
      "[\n",
      "  [\n",
      "    {\n",
      "      \"id\": 1,\n",
      "      \"text\": \"क्या\",\n",
      "      \"lemma\": \"क्या\",\n",
      "      \"upos\": \"PRON\",\n",
      "      \"xpos\": \"WQ\",\n",
      "      \"feats\": \"PronType=Int\",\n",
      "      \"head\": 4,\n",
      "      \"deprel\": \"obl\",\n",
      "      \"start_char\": 0,\n",
      "      \"end_char\": 4\n",
      "    },\n",
      "    {\n",
      "      \"id\": 2,\n",
      "      \"text\": \"यहाँ\",\n",
      "      \"lemma\": \"यहाँ\",\n",
      "      \"upos\": \"PRON\",\n",
      "      \"xpos\": \"PRP\",\n",
      "      \"feats\": \"Case=Nom|PronType=Prs\",\n",
      "      \"head\": 4,\n",
      "      \"deprel\": \"obl\",\n",
      "      \"start_char\": 5,\n",
      "      \"end_char\": 9\n",
      "    },\n",
      "    {\n",
      "      \"id\": 3,\n",
      "      \"text\": \"बारिश\",\n",
      "      \"lemma\": \"बारिश\",\n",
      "      \"upos\": \"NOUN\",\n",
      "      \"xpos\": \"NN\",\n",
      "      \"feats\": \"Case=Nom|Gender=Fem|Number=Sing|Person=3\",\n",
      "      \"head\": 4,\n",
      "      \"deprel\": \"compound\",\n",
      "      \"start_char\": 10,\n",
      "      \"end_char\": 15\n",
      "    },\n",
      "    {\n",
      "      \"id\": 4,\n",
      "      \"text\": \"हो\",\n",
      "      \"lemma\": \"होना\",\n",
      "      \"upos\": \"VERB\",\n",
      "      \"xpos\": \"VM\",\n",
      "      \"feats\": \"Gender=Fem|Number=Sing|Person=3|Voice=Act\",\n",
      "      \"head\": 0,\n",
      "      \"deprel\": \"root\",\n",
      "      \"start_char\": 16,\n",
      "      \"end_char\": 18\n",
      "    },\n",
      "    {\n",
      "      \"id\": 5,\n",
      "      \"text\": \"रही\",\n",
      "      \"lemma\": \"रहना\",\n",
      "      \"upos\": \"AUX\",\n",
      "      \"xpos\": \"VAUX\",\n",
      "      \"feats\": \"Aspect=Perf|Gender=Fem|Number=Sing|VerbForm=Part\",\n",
      "      \"head\": 4,\n",
      "      \"deprel\": \"aux\",\n",
      "      \"start_char\": 19,\n",
      "      \"end_char\": 22\n",
      "    },\n",
      "    {\n",
      "      \"id\": 6,\n",
      "      \"text\": \"है\",\n",
      "      \"lemma\": \"है\",\n",
      "      \"upos\": \"AUX\",\n",
      "      \"xpos\": \"VAUX\",\n",
      "      \"feats\": \"Mood=Ind|Number=Sing|Person=3|Tense=Pres|VerbForm=Fin\",\n",
      "      \"head\": 4,\n",
      "      \"deprel\": \"aux:pass\",\n",
      "      \"start_char\": 23,\n",
      "      \"end_char\": 25,\n",
      "      \"misc\": \"SpaceAfter=No\"\n",
      "    },\n",
      "    {\n",
      "      \"id\": 7,\n",
      "      \"text\": \"?\",\n",
      "      \"lemma\": \"?\",\n",
      "      \"upos\": \"PUNCT\",\n",
      "      \"xpos\": \"SYM\",\n",
      "      \"head\": 4,\n",
      "      \"deprel\": \"punct\",\n",
      "      \"start_char\": 25,\n",
      "      \"end_char\": 26,\n",
      "      \"misc\": \"SpaceAfter=No\"\n",
      "    }\n",
      "  ]\n",
      "]\n"
     ]
    }
   ],
   "source": [
    "# Initialize the Hindi NLP pipeline with required processors\n",
    "nlp_pipeline = stanza.Pipeline('hi', processors='tokenize,lemma,pos,depparse')\n",
    "document = nlp_pipeline(hindi_sentence)\n",
    "print(document)"
   ]
  },
  {
   "cell_type": "code",
   "execution_count": 5,
   "id": "33f6665f-0f38-41bf-9027-df63b3347731",
   "metadata": {},
   "outputs": [
    {
     "data": {
      "text/html": [
       "<div>\n",
       "<style scoped>\n",
       "    .dataframe tbody tr th:only-of-type {\n",
       "        vertical-align: middle;\n",
       "    }\n",
       "\n",
       "    .dataframe tbody tr th {\n",
       "        vertical-align: top;\n",
       "    }\n",
       "\n",
       "    .dataframe thead th {\n",
       "        text-align: right;\n",
       "    }\n",
       "</style>\n",
       "<table border=\"1\" class=\"dataframe\">\n",
       "  <thead>\n",
       "    <tr style=\"text-align: right;\">\n",
       "      <th></th>\n",
       "      <th>Text word</th>\n",
       "      <th>Universal POS tag</th>\n",
       "      <th>Treebank-specific POS (XPOS) tag</th>\n",
       "      <th>Parent index</th>\n",
       "      <th>Dependency relation</th>\n",
       "    </tr>\n",
       "  </thead>\n",
       "  <tbody>\n",
       "    <tr>\n",
       "      <th>1</th>\n",
       "      <td>क्या</td>\n",
       "      <td>PRON</td>\n",
       "      <td>WQ</td>\n",
       "      <td>4</td>\n",
       "      <td>obl</td>\n",
       "    </tr>\n",
       "    <tr>\n",
       "      <th>2</th>\n",
       "      <td>यहाँ</td>\n",
       "      <td>PRON</td>\n",
       "      <td>PRP</td>\n",
       "      <td>4</td>\n",
       "      <td>obl</td>\n",
       "    </tr>\n",
       "    <tr>\n",
       "      <th>3</th>\n",
       "      <td>बारिश</td>\n",
       "      <td>NOUN</td>\n",
       "      <td>NN</td>\n",
       "      <td>4</td>\n",
       "      <td>compound</td>\n",
       "    </tr>\n",
       "    <tr>\n",
       "      <th>4</th>\n",
       "      <td>हो</td>\n",
       "      <td>VERB</td>\n",
       "      <td>VM</td>\n",
       "      <td>0</td>\n",
       "      <td>root</td>\n",
       "    </tr>\n",
       "    <tr>\n",
       "      <th>5</th>\n",
       "      <td>रही</td>\n",
       "      <td>AUX</td>\n",
       "      <td>VAUX</td>\n",
       "      <td>4</td>\n",
       "      <td>aux</td>\n",
       "    </tr>\n",
       "    <tr>\n",
       "      <th>6</th>\n",
       "      <td>है</td>\n",
       "      <td>AUX</td>\n",
       "      <td>VAUX</td>\n",
       "      <td>4</td>\n",
       "      <td>aux:pass</td>\n",
       "    </tr>\n",
       "    <tr>\n",
       "      <th>7</th>\n",
       "      <td>?</td>\n",
       "      <td>PUNCT</td>\n",
       "      <td>SYM</td>\n",
       "      <td>4</td>\n",
       "      <td>punct</td>\n",
       "    </tr>\n",
       "  </tbody>\n",
       "</table>\n",
       "</div>"
      ],
      "text/plain": [
       "  Text word Universal POS tag Treebank-specific POS (XPOS) tag  Parent index  \\\n",
       "1      क्या              PRON                               WQ             4   \n",
       "2      यहाँ              PRON                              PRP             4   \n",
       "3     बारिश              NOUN                               NN             4   \n",
       "4        हो              VERB                               VM             0   \n",
       "5       रही               AUX                             VAUX             4   \n",
       "6        है               AUX                             VAUX             4   \n",
       "7         ?             PUNCT                              SYM             4   \n",
       "\n",
       "  Dependency relation  \n",
       "1                 obl  \n",
       "2                 obl  \n",
       "3            compound  \n",
       "4                root  \n",
       "5                 aux  \n",
       "6            aux:pass  \n",
       "7               punct  "
      ]
     },
     "metadata": {},
     "output_type": "display_data"
    },
    {
     "name": "stdout",
     "output_type": "stream",
     "text": [
      "\n",
      "The root (highest ranked) word is:\n",
      "हो\n"
     ]
    }
   ],
   "source": [
    "# Extract relevant fields from each token in the first sentence\n",
    "token_data = [\n",
    "    (token['text'], token['upos'], token['xpos'], token['head'], token['deprel'])\n",
    "    for token in document.to_dict()[0]\n",
    "]\n",
    "\n",
    "# Create a DataFrame to display token information\n",
    "df_tokens = pd.DataFrame(token_data, columns=[\n",
    "    'Text word', 'Universal POS tag', 'Treebank-specific POS (XPOS) tag', 'Parent index', 'Dependency relation'\n",
    "])\n",
    "df_tokens.index += 1\n",
    "display(df_tokens)\n",
    "\n",
    "# Display the root (highest ranked) word\n",
    "print(\"\\nThe root (highest ranked) word is:\")\n",
    "print(df_tokens.loc[df_tokens['Parent index'] == 0]['Text word'].iloc[0])"
   ]
  },
  {
   "cell_type": "markdown",
   "id": "bdf5687e-97ff-4577-9fd8-fbc625a069ce",
   "metadata": {},
   "source": [
    "# Visualize Dependence Tree"
   ]
  },
  {
   "cell_type": "code",
   "execution_count": 6,
   "id": "cad33a4b-af56-4971-8c93-f90ea08ace67",
   "metadata": {},
   "outputs": [
    {
     "data": {
      "image/png": "[encoded data removed]",
      "text/plain": [
       "<Figure size 1000x600 with 1 Axes>"
      ]
     },
     "metadata": {},
     "output_type": "display_data"
    }
   ],
   "source": [
    "import matplotlib.pyplot as plt\n",
    "import networkx as nx\n",
    "import matplotlib.font_manager as fm\n",
    "\n",
    "# Load Hindi font\n",
    "hindi_font_path = r\"utility\\NotoSansDevanagari.ttf\"  # Ensure this is a valid path on your system\n",
    "hindi_font = fm.FontProperties(fname=hindi_font_path)\n",
    "\n",
    "# Create a directed graph and map nodes to token text\n",
    "dependency_graph = nx.DiGraph()\n",
    "node_labels = {}\n",
    "\n",
    "for idx, row in df_tokens.iterrows():\n",
    "    node_labels[idx] = row[\"Text word\"]\n",
    "    if row[\"Parent index\"] != 0:  # Skip the root as it has no parent\n",
    "        dependency_graph.add_edge(row[\"Parent index\"], idx)\n",
    "\n",
    "# Use spring layout instead of graphviz_layout\n",
    "graph_layout = nx.spring_layout(dependency_graph, seed=42)  # You can also try nx.shell_layout or nx.kamada_kawai_layout\n",
    "\n",
    "# Draw the dependency tree\n",
    "plt.figure(figsize=(10, 6))\n",
    "nx.draw(dependency_graph, pos=graph_layout, with_labels=True, labels=node_labels,\n",
    "        node_color=\"pink\", edge_color=\"black\", node_size=2500, font_size=12, arrows=True)\n",
    "\n",
    "# Apply Devanagari font to all labels\n",
    "for text in plt.gca().texts:\n",
    "    text.set_fontproperties(hindi_font)\n",
    "\n",
    "plt.title(\"Dependency Parse Tree\", fontsize=14)\n",
    "plt.show()\n"
   ]
  },
  {
   "cell_type": "markdown",
   "id": "d805b116",
   "metadata": {},
   "source": [
    "# Extract Tags for Each Word"
   ]
  },
  {
   "cell_type": "code",
   "execution_count": 7,
   "id": "ee6ca547",
   "metadata": {},
   "outputs": [
    {
     "name": "stdout",
     "output_type": "stream",
     "text": [
      "[{'text': 'क्या', 'xpos': 'WQ', 'id': 1, 'lemma': 'क्या', 'deprel': 'obl', 'head': 4}, {'text': 'यहाँ', 'xpos': 'PRP', 'id': 2, 'lemma': 'यहाँ', 'deprel': 'obl', 'head': 4}, {'text': 'बारिश', 'xpos': 'NN', 'id': 3, 'lemma': 'बारिश', 'deprel': 'compound', 'head': 4}, {'text': 'हो', 'xpos': 'VM', 'id': 4, 'lemma': 'होना', 'deprel': 'root', 'head': 0}, {'text': 'रही', 'xpos': 'VAUX', 'id': 5, 'lemma': 'रहना', 'deprel': 'aux', 'head': 4}, {'text': 'है', 'xpos': 'VAUX', 'id': 6, 'lemma': 'है', 'deprel': 'aux:pass', 'head': 4}, {'text': '?', 'xpos': 'SYM', 'id': 7, 'lemma': '?', 'deprel': 'punct', 'head': 4}]\n"
     ]
    }
   ],
   "source": [
    "word_tags = []\n",
    "for sentence in document.sentences:\n",
    "    for word in sentence.words:\n",
    "        word_info = {\n",
    "            \"text\": word.text,\n",
    "            \"xpos\": word.xpos,\n",
    "            \"id\": word.id,\n",
    "            \"lemma\": word.lemma,\n",
    "            \"deprel\": word.deprel,\n",
    "            \"head\": word.head\n",
    "        }\n",
    "        word_tags.append(word_info)\n",
    "print(word_tags)"
   ]
  },
  {
   "cell_type": "markdown",
   "id": "aaa79477-752b-4a55-8d60-81ce4728707c",
   "metadata": {},
   "source": [
    "## **Remove Unwanted Tags**\n",
    " -------------------------------------------------------------------\n",
    "### Define unwanted XPOS tags:\n",
    "- VAUX (Verb Auxiliary)\n",
    "- CC (Coordinating Conjunction)\n",
    "- SYM (Symbol)\n",
    "- PSP (Postposition)"
   ]
  },
  {
   "cell_type": "code",
   "execution_count": 8,
   "id": "858e6bc7-2626-4339-8e2b-0fe6a2145902",
   "metadata": {},
   "outputs": [
    {
     "name": "stdout",
     "output_type": "stream",
     "text": [
      "1 {'text': 'क्या', 'xpos': 'WQ', 'id': 1, 'lemma': 'क्या', 'deprel': 'obl', 'head': 4}\n",
      "2 {'text': 'यहाँ', 'xpos': 'PRP', 'id': 2, 'lemma': 'यहाँ', 'deprel': 'obl', 'head': 4}\n",
      "3 {'text': 'बारिश', 'xpos': 'NN', 'id': 3, 'lemma': 'बारिश', 'deprel': 'compound', 'head': 4}\n",
      "4 {'text': 'हो', 'xpos': 'VM', 'id': 4, 'lemma': 'होना', 'deprel': 'root', 'head': 0}\n"
     ]
    }
   ],
   "source": [
    "unwanted_tags = ['VAUX', 'CC', 'SYM', 'PSP']\n",
    "cleaned_word_tags = {}\n",
    "for word_info in word_tags:\n",
    "    if word_info['xpos'] not in unwanted_tags:\n",
    "        cleaned_word_tags[word_info['id']] = word_info\n",
    "\n",
    "for key, value in cleaned_word_tags.items():\n",
    "    print(key, value)"
   ]
  },
  {
   "cell_type": "markdown",
   "id": "659148b0-9d55-4978-9d21-f2f8fd04b7d3",
   "metadata": {},
   "source": [
    "# Grammer Rules based Reordering\n",
    "\n",
    "1. Noun Verb\n",
    "\n",
    "2. Assumption:  Subject always comes before object\n",
    "    राम ने श्याम को कहा\n",
    "    Subject Object Verb\n",
    "\n",
    "3. Verb Auxiliary Verb\n",
    "\n",
    "4. Verb Adverb\n",
    "\n",
    "5. Noun Adjective\n",
    "\n",
    "-----------------------------------------------------\n",
    "#### Subjective S_Adjective Object O_Adjective Verb Adverb\n",
    "-----------------------------------------------------\n",
    "#### Arrange in Order : Pronoun Subjective S_Adjective Object O_Adjective -> Noun Adjective Verb Adverb"
   ]
  },
  {
   "cell_type": "code",
   "execution_count": 9,
   "id": "f240f2c0-ff10-4bbc-a62b-fe1bd430beb5",
   "metadata": {},
   "outputs": [],
   "source": [
    "# Reorders word_dict by moving the entry with key row1 to the position of row2.\n",
    "# If row1 and row2 are the same, the original dictionary is returned.\n",
    "\n",
    "def change_dict_order(word_dict, row1, row2):\n",
    "    if row1 == row2:\n",
    "        return word_dict\n",
    "    items = list(word_dict.items())\n",
    "    index1 = None\n",
    "    index2 = None\n",
    "    for i, (key, _) in enumerate(items):\n",
    "        if key == row1:\n",
    "            index1 = i\n",
    "        elif key == row2:\n",
    "            index2 = i\n",
    "    entry = items.pop(index1)\n",
    "    items.insert(index2, entry)\n",
    "    return {k: v for k, v in items}"
   ]
  },
  {
   "cell_type": "markdown",
   "id": "91b7e690-9dbb-4bf2-820b-71714d96b959",
   "metadata": {},
   "source": [
    "# Format Subject and Object"
   ]
  },
  {
   "cell_type": "code",
   "execution_count": 10,
   "id": "631b7b33-bb92-468d-b1b9-e054fc1a3906",
   "metadata": {},
   "outputs": [
    {
     "name": "stdout",
     "output_type": "stream",
     "text": [
      "1 {'text': 'क्या', 'xpos': 'WQ', 'id': 1, 'lemma': 'क्या', 'deprel': 'obl', 'head': 4}\n",
      "2 {'text': 'यहाँ', 'xpos': 'PRP', 'id': 2, 'lemma': 'यहाँ', 'deprel': 'obl', 'head': 4}\n",
      "3 {'text': 'बारिश', 'xpos': 'NN', 'id': 3, 'lemma': 'बारिश', 'deprel': 'compound', 'head': 4}\n",
      "4 {'text': 'हो', 'xpos': 'VM', 'id': 4, 'lemma': 'होना', 'deprel': 'root', 'head': 0}\n"
     ]
    }
   ],
   "source": [
    "# Copy cleaned_word_tags for ordering specific to sign language\n",
    "word_sign_order = cleaned_word_tags.copy()\n",
    "\n",
    "# Identify subject and object for reordering\n",
    "subject_id = None\n",
    "object_id = None\n",
    "counter = 0\n",
    "for key, value in cleaned_word_tags.items():\n",
    "    if value['deprel'] in ['obj', 'obl']:\n",
    "        object_id = key\n",
    "    elif value['deprel'] == 'nsubj':\n",
    "        subject_id = key\n",
    "    counter += 1\n",
    "\n",
    "# If subject comes after object, swap their order\n",
    "if subject_id is not None and object_id is not None and subject_id > object_id:\n",
    "    word_sign_order = change_dict_order(word_sign_order, object_id, subject_id)\n",
    "\n",
    "for key, value in word_sign_order.items():\n",
    "    print(key, value)"
   ]
  },
  {
   "cell_type": "markdown",
   "id": "fd8027d0-6fea-4f45-8027-e1132acfc13c",
   "metadata": {},
   "source": [
    "# Handling Adjective and Adverb"
   ]
  },
  {
   "cell_type": "code",
   "execution_count": 11,
   "id": "12b3bc49-fd8e-4d95-a55c-2730263f557d",
   "metadata": {},
   "outputs": [
    {
     "name": "stdout",
     "output_type": "stream",
     "text": [
      "{1: {'text': 'क्या', 'xpos': 'WQ', 'id': 1, 'lemma': 'क्या', 'deprel': 'obl', 'head': 4}, 2: {'text': 'यहाँ', 'xpos': 'PRP', 'id': 2, 'lemma': 'यहाँ', 'deprel': 'obl', 'head': 4}, 3: {'text': 'बारिश', 'xpos': 'NN', 'id': 3, 'lemma': 'बारिश', 'deprel': 'compound', 'head': 4}, 4: {'text': 'हो', 'xpos': 'VM', 'id': 4, 'lemma': 'होना', 'deprel': 'root', 'head': 0}}\n"
     ]
    }
   ],
   "source": [
    "for key, value in cleaned_word_tags.items():\n",
    "    if value['xpos'] == 'JJ':  # Adjective\n",
    "        # If the adjective's head is a noun, adjust its position accordingly\n",
    "        if value['head'] != 0 and cleaned_word_tags[value['head']]['xpos'] == 'NN':\n",
    "            word_sign_order = change_dict_order(\n",
    "                word_sign_order, key, value['head'])\n",
    "    elif value['xpos'] == 'RB':  # Adverb\n",
    "        if value['head'] != 0 and cleaned_word_tags[value['head']]['xpos'] in ['VM', 'VAUX']:\n",
    "            word_sign_order = change_dict_order(\n",
    "                word_sign_order, key, value['head'])\n",
    "print(word_sign_order)"
   ]
  },
  {
   "cell_type": "markdown",
   "id": "4d039b79-0f1d-4c9e-b979-ecfcd42fd957",
   "metadata": {},
   "source": [
    "# Handling Negative Sentences"
   ]
  },
  {
   "cell_type": "code",
   "execution_count": 12,
   "id": "86d0f059-dd69-49d8-9f1a-01a450617fa0",
   "metadata": {},
   "outputs": [],
   "source": [
    "for key, value in word_sign_order.items():\n",
    "    if value['xpos'] == 'NEG':\n",
    "        last_key = list(word_sign_order.keys())[-1]\n",
    "        word_sign_order = change_dict_order(word_sign_order, key, last_key)"
   ]
  },
  {
   "cell_type": "markdown",
   "id": "8ebd38bf-0d02-4dc4-9efa-b71868de7d83",
   "metadata": {},
   "source": [
    "# Handling Interrogative Sentences"
   ]
  },
  {
   "cell_type": "code",
   "execution_count": 13,
   "id": "b6dce53b-e21c-41b1-84db-bb56a011bcc3",
   "metadata": {},
   "outputs": [],
   "source": [
    "for key, value in word_sign_order.items():\n",
    "    if value['xpos'] == 'WQ':\n",
    "        last_key = list(word_sign_order.keys())[-1]\n",
    "        word_sign_order = change_dict_order(word_sign_order, key, last_key)"
   ]
  },
  {
   "cell_type": "markdown",
   "id": "06ec4a17-c6ad-4d7b-8197-c207e004e128",
   "metadata": {},
   "source": [
    "# StopWord Removal - For Sentences like मैं खुश हूं।\n",
    "#### हूं - comes out to be VM"
   ]
  },
  {
   "cell_type": "code",
   "execution_count": 14,
   "id": "6d6aa9b6-a5f5-40be-b999-51efa9cf8da6",
   "metadata": {},
   "outputs": [],
   "source": [
    "# Read stopwords from file\n",
    "with open('./utility/final_stopwords.txt', 'r',encoding='utf8') as file:\n",
    "    # Read the entire contents of the file\n",
    "    stopword_list = file.readlines()\n",
    "stopword_list = [word.strip() for word in stopword_list]"
   ]
  },
  {
   "cell_type": "code",
   "execution_count": 15,
   "id": "a5a534df-a946-479a-be91-951539f7b6bc",
   "metadata": {},
   "outputs": [],
   "source": [
    "# StopWord Removal\n",
    "stopword_removed_list = {}\n",
    "for key,value in word_sign_order.items():\n",
    "    #print(value['text'] in stopword_list)\n",
    "    if value['text'] not in stopword_list:\n",
    "        stopword_removed_list[key] = value"
   ]
  },
  {
   "cell_type": "code",
   "execution_count": 16,
   "id": "bd1c67d0-8a61-4bdf-a55f-220fbaa30476",
   "metadata": {},
   "outputs": [
    {
     "name": "stdout",
     "output_type": "stream",
     "text": [
      "2 {'text': 'यहाँ', 'xpos': 'PRP', 'id': 2, 'lemma': 'यहाँ', 'deprel': 'obl', 'head': 4}\n",
      "3 {'text': 'बारिश', 'xpos': 'NN', 'id': 3, 'lemma': 'बारिश', 'deprel': 'compound', 'head': 4}\n",
      "1 {'text': 'क्या', 'xpos': 'WQ', 'id': 1, 'lemma': 'क्या', 'deprel': 'obl', 'head': 4}\n"
     ]
    }
   ],
   "source": [
    "for key,value in stopword_removed_list.items():\n",
    "    print(key,value)"
   ]
  },
  {
   "cell_type": "markdown",
   "id": "e686ca02-4b16-4d06-b580-3bdc2297492a",
   "metadata": {},
   "source": [
    "# Mapping xpos to POS Tag"
   ]
  },
  {
   "cell_type": "code",
   "execution_count": 17,
   "id": "0c99404b-f6b5-4efb-9a1c-3ccd3424e552",
   "metadata": {},
   "outputs": [],
   "source": [
    "# Mapping xpos to POS tags\n",
    "xpos_to_pos = {\n",
    "    'NNP': 'pnoun',\n",
    "    'VM': 'verb',\n",
    "    'VAUX': 'verb',\n",
    "    'JJ': 'adjective',\n",
    "    'RB': 'adverb',\n",
    "    'PRP' : 'pronoun',\n",
    "    'NEG' : 'negative',\n",
    "    'NN' : 'noun',\n",
    "    'RDP' : 'adverb',\n",
    "    'QF': 'adjective',            # 'अधिक'\\\n",
    "    'WQ': 'wh_adverb',\n",
    "    'NST': 'noun_locative',\n",
    "    'DEM': 'noun_refer_specific',\n",
    "    'INTF': 'intensifier',\n",
    "    # Add more mappings as needed\n",
    "}"
   ]
  },
  {
   "cell_type": "code",
   "execution_count": 18,
   "id": "9d4298ba-cb9d-4d2c-95ea-730d5a399596",
   "metadata": {},
   "outputs": [
    {
     "name": "stdout",
     "output_type": "stream",
     "text": [
      "[('यहाँ', 'pronoun'), ('बारिश', 'noun'), ('क्या', 'wh_adverb')]\n"
     ]
    }
   ],
   "source": [
    "# Extract Words from Parser and corresponding tag\n",
    "sign_words_list = []\n",
    "for key,value in stopword_removed_list.items():\n",
    "    if value['xpos'] in xpos_to_pos:\n",
    "        sign_words_list.append((value['text'], xpos_to_pos[value['xpos']]))\n",
    "    else:\n",
    "        sign_words_list.append((value['text'], 'extra'))\n",
    "print(sign_words_list)"
   ]
  },
  {
   "cell_type": "markdown",
   "id": "b2b50dac-bc18-44eb-98d4-7aed38eba4f5",
   "metadata": {},
   "source": [
    "# READ ISL Dictionary"
   ]
  },
  {
   "cell_type": "code",
   "execution_count": 19,
   "id": "0236114d-93e8-4a6b-8705-9619b997c142",
   "metadata": {},
   "outputs": [],
   "source": [
    "# READ ISL Dictionary\n",
    "# Open the file in read mode\n",
    "with open('./utility/isl_dict.txt', 'r',encoding='utf8') as file:\n",
    "    # Read the entire contents of the file\n",
    "    isl_dict = ast.literal_eval(file.read())"
   ]
  },
  {
   "cell_type": "code",
   "execution_count": 20,
   "id": "fbf1d943-8d0d-43ad-ad8f-1f4587869c21",
   "metadata": {},
   "outputs": [],
   "source": [
    "## Use Case : Why_(Sign_2) should be why\n",
    "# Remove content within parentheses and strip whitespace for keys containing \"_(*)\"\n",
    "isl_dict = {re.sub(r'_\\(.*\\)', '', key).strip().lower(): value for key, value in isl_dict.items()}"
   ]
  },
  {
   "cell_type": "code",
   "execution_count": 21,
   "id": "a2a794e3-b0b0-444c-87cd-d3f9cf4ef99d",
   "metadata": {},
   "outputs": [],
   "source": [
    "# Create a new dictionary with lowercase keys\n",
    "isl_dict = {key.lower(): value for key, value in isl_dict.items()}\n",
    "isl_dict['school'] = 'स्कूल'"
   ]
  },
  {
   "cell_type": "code",
   "execution_count": 22,
   "id": "b6ea41ba-a207-4733-81ca-e1500eaa2699",
   "metadata": {},
   "outputs": [],
   "source": [
    "# # Google Translator\n",
    "# from googletrans import Translator\n",
    "# # Create a Translator object\n",
    "# translator = Translator()\n",
    "\n",
    "# Google Translator using deep-translator\n",
    "from deep_translator import GoogleTranslator\n",
    "\n",
    "# Create a Translator object and translate text\n",
    "translator = GoogleTranslator(source='auto', target='en')"
   ]
  },
  {
   "cell_type": "markdown",
   "id": "f5558836-b586-4fc4-9daf-c7b368cbde42",
   "metadata": {},
   "source": [
    "# Synonym Substitution"
   ]
  },
  {
   "cell_type": "code",
   "execution_count": 23,
   "id": "1956169d-5b79-4e73-a3fa-48e1d9f24ca0",
   "metadata": {},
   "outputs": [
    {
     "name": "stderr",
     "output_type": "stream",
     "text": [
      "[nltk_data] Downloading package wordnet to\n",
      "[nltk_data]     C:\\Users\\user\\AppData\\Roaming\\nltk_data...\n",
      "[nltk_data]   Package wordnet is already up-to-date!\n",
      "[nltk_data] Downloading package omw-1.4 to\n",
      "[nltk_data]     C:\\Users\\user\\AppData\\Roaming\\nltk_data...\n",
      "[nltk_data]   Package omw-1.4 is already up-to-date!\n",
      "2025-05-11:17:14:41,435 INFO     [iwn.py:43] Loading hindi language synsets...\n"
     ]
    },
    {
     "name": "stdout",
     "output_type": "stream",
     "text": [
      "Lemmatized 'running': running\n",
      "E.g. आम्र: [Synset('आम.noun.3462')]\n"
     ]
    }
   ],
   "source": [
    "# Synonym Substitution\n",
    "from nltk.stem import WordNetLemmatizer\n",
    "nltk.download('wordnet')\n",
    "nltk.download('omw-1.4')  # For WordNet lemmatizer\n",
    "\n",
    "# Initialize lemmatizer\n",
    "lemmatizer = WordNetLemmatizer()\n",
    "\n",
    "# Initialize IndoWordNet\n",
    "iwn = pyiwn.IndoWordNet()\n",
    "\n",
    "# Example: English lemmatization\n",
    "print(\"Lemmatized 'running':\", lemmatizer.lemmatize('running'))  # Output: run\n",
    "\n",
    "# Hindi synonym using IndoWordNet\n",
    "print(\"E.g. आम्र:\", end=\" \")\n",
    "print(iwn.synsets('आम्र'))  # Prints synsets of 'आम्र' (mango)\n",
    "\n",
    "# Special video dictionary (unchanged)\n",
    "special_videos = {\n",
    "    'i': 'I',\n",
    "    'who': '/content/drive/MyDrive/Major Project - Final Year/ISL Dictionary/W/Who_Whom.mp4',\n",
    "    'whom': '/content/drive/MyDrive/Major Project - Final Year/ISL Dictionary/W/Who_Whom.mp4'\n",
    "}"
   ]
  },
  {
   "cell_type": "code",
   "execution_count": 26,
   "id": "62945f12-845e-4762-b1b1-6bfd8a9b698e",
   "metadata": {},
   "outputs": [
    {
     "name": "stdout",
     "output_type": "stream",
     "text": [
      "[('यहाँ', 'pronoun', 'here'), ('बारिश', 'noun', 'rain'), ('क्या', 'wh_adverb', 'what')]\n"
     ]
    }
   ],
   "source": [
    "\n",
    "from nltk.stem import WordNetLemmatizer\n",
    "lemmatizer = WordNetLemmatizer()\n",
    "\n",
    "synonym_substituted_list = []\n",
    "temp_list = [('आकलन', 'noun')]\n",
    "for word, pos_tag in sign_words_list:\n",
    "\n",
    "    # Translate the Hindi sentence to English\n",
    "    english_word = translator.translate(word, src='hi', dest='en').lower()\n",
    "    english_word_lemmatized = lemmatizer.lemmatize(english_word)\n",
    "    \n",
    "    if english_word_lemmatized in list(special_videos.keys()):\n",
    "        synonym_substituted_list.append((word, pos_tag, special_videos[english_word_lemmatized]))\n",
    "        continue\n",
    "\n",
    "    if pos_tag == 'pnoun':\n",
    "        synonym_substituted_list.append((word, pos_tag, english_word))\n",
    "        continue\n",
    "\n",
    "    # Case 1 : Check hindi word in isl_dict\n",
    "    if word in list(isl_dict.values()):\n",
    "        synonym_substituted_list.append((word, pos_tag, english_word))\n",
    "        continue\n",
    "\n",
    "    all_hindi_synsets = []\n",
    "    # Case 2 : Check synonym of hindi_word in isl_dict\n",
    "    try:\n",
    "        all_hindi_synsets = iwn.synsets(word)\n",
    "    except Exception as e:\n",
    "        pass\n",
    "\n",
    "    flag = False\n",
    "    for synset in all_hindi_synsets:\n",
    "        if synset._head_word in list(isl_dict.values()):\n",
    "            corresponding_keys = [key for key, value in isl_dict.items() if value == synset._head_word]\n",
    "            synonym_substituted_list.append((word, pos_tag, corresponding_keys[0]))\n",
    "            flag = True\n",
    "            break\n",
    "    if flag:\n",
    "        continue\n",
    "\n",
    "    # Case 3 : Check english word in isl_dict\n",
    "    if english_word in list(isl_dict.keys()):\n",
    "        synonym_substituted_list.append((word, pos_tag, english_word))\n",
    "        continue\n",
    "\n",
    "    # Case 4 : Check lemmatized english word in isl_dict\n",
    "    if english_word_lemmatized in list(isl_dict.keys()):\n",
    "        synonym_substituted_list.append((word, pos_tag, english_word_lemmatized))\n",
    "        continue\n",
    "\n",
    "    # Case 5 : Check syno of english word in isl_dict\n",
    "    all_english_synsets = wn.synonyms(english_word)\n",
    "    all_english_synsets_flatten = []\n",
    "    for row in all_english_synsets:\n",
    "        all_english_synsets_flatten.extend(row)\n",
    "\n",
    "    flag = False\n",
    "    for synset in all_english_synsets_flatten:\n",
    "        if synset.lower() in list(isl_dict.keys()):\n",
    "            flag = True\n",
    "            synonym_substituted_list.append((word, pos_tag, synset.lower()))\n",
    "            break\n",
    "    if flag:\n",
    "        continue\n",
    "\n",
    "    # Case 6  : Nothing Words Go for Finger Spelling\n",
    "    synonym_substituted_list.append((word, pos_tag, '#'))\n",
    "\n",
    "print(synonym_substituted_list)\n"
   ]
  },
  {
   "cell_type": "code",
   "execution_count": 27,
   "id": "2a4a7964-5c69-4e45-b9c0-56b502243502",
   "metadata": {},
   "outputs": [
    {
     "data": {
      "text/html": [
       "<div>\n",
       "<style scoped>\n",
       "    .dataframe tbody tr th:only-of-type {\n",
       "        vertical-align: middle;\n",
       "    }\n",
       "\n",
       "    .dataframe tbody tr th {\n",
       "        vertical-align: top;\n",
       "    }\n",
       "\n",
       "    .dataframe thead th {\n",
       "        text-align: right;\n",
       "    }\n",
       "</style>\n",
       "<table border=\"1\" class=\"dataframe\">\n",
       "  <thead>\n",
       "    <tr style=\"text-align: right;\">\n",
       "      <th></th>\n",
       "      <th>Hindi Word</th>\n",
       "      <th>POS Tag</th>\n",
       "      <th>ISL Dictionary Tag</th>\n",
       "    </tr>\n",
       "  </thead>\n",
       "  <tbody>\n",
       "    <tr>\n",
       "      <th>0</th>\n",
       "      <td>यहाँ</td>\n",
       "      <td>pronoun</td>\n",
       "      <td>here</td>\n",
       "    </tr>\n",
       "    <tr>\n",
       "      <th>1</th>\n",
       "      <td>बारिश</td>\n",
       "      <td>noun</td>\n",
       "      <td>rain</td>\n",
       "    </tr>\n",
       "    <tr>\n",
       "      <th>2</th>\n",
       "      <td>क्या</td>\n",
       "      <td>wh_adverb</td>\n",
       "      <td>what</td>\n",
       "    </tr>\n",
       "  </tbody>\n",
       "</table>\n",
       "</div>"
      ],
      "text/plain": [
       "  Hindi Word    POS Tag ISL Dictionary Tag\n",
       "0       यहाँ    pronoun               here\n",
       "1      बारिश       noun               rain\n",
       "2       क्या  wh_adverb               what"
      ]
     },
     "execution_count": 27,
     "metadata": {},
     "output_type": "execute_result"
    }
   ],
   "source": [
    "# Final ISL List\n",
    "final_isl_list = synonym_substituted_list.copy()\n",
    "# Create DataFrame\n",
    "df = pd.DataFrame(final_isl_list, columns=['Hindi Word', 'POS Tag', 'ISL Dictionary Tag'])\n",
    "df"
   ]
  },
  {
   "cell_type": "markdown",
   "id": "9e1570af-2dcc-4bd0-a476-4f2400368ac5",
   "metadata": {},
   "source": [
    "# Video Translation"
   ]
  },
  {
   "cell_type": "code",
   "execution_count": 28,
   "id": "f32f543b-b8b2-4e3f-8e83-230f9aea59b3",
   "metadata": {},
   "outputs": [],
   "source": [
    "# Reversed dictionary mapping Hindi words to English words\n",
    "isl_hindi_english_dict = {hindi_word: english_word for english_word, hindi_word in isl_dict.items()}\n",
    "#print(isl_hindi_english_dict)"
   ]
  },
  {
   "cell_type": "code",
   "execution_count": 29,
   "id": "4dcc232e-7ded-4ef5-874e-d889430f16db",
   "metadata": {},
   "outputs": [],
   "source": [
    "# Mapping of Devanagari vowel signs to their vowels\n",
    "sign_mapping_vowels = {\n",
    "    'ा': 'आ',  # Aa\n",
    "    'ि': 'इ',  # I\n",
    "    'ी': 'ई',  # II\n",
    "    'ु': 'उ',  # U\n",
    "    'ू': 'ऊ',  # UU\n",
    "    'ृ': 'ऋ',  # R\n",
    "    'े': 'ए',  # E\n",
    "    'ै': 'ऐ',  # AI\n",
    "    'ो': 'ओ',  # O\n",
    "    'ौ': 'औ',  # AU\n",
    "    'ं': 'अं', # Anusvara\n",
    "    'ः': 'अः'  # Visarga\n",
    "}"
   ]
  },
  {
   "cell_type": "code",
   "execution_count": 30,
   "id": "16cca5fc-cb58-4d8a-9971-6aa20cb54e6f",
   "metadata": {},
   "outputs": [],
   "source": [
    "import os\n",
    "import subprocess\n",
    "import time\n",
    "\n",
    "def search_videos(folder_path, final_isl_list):\n",
    "    \"\"\"\n",
    "    Searches for video files named after the provided words in a directory.\n",
    "\n",
    "    Args:\n",
    "        folder_path: Path to the directory containing video files.\n",
    "        words: A list of words to search for (video names).\n",
    "\n",
    "    Returns:\n",
    "        A list of paths to the found video files.\n",
    "    \"\"\"\n",
    "\n",
    "    found_videos = []\n",
    "    # Assuming `words` is a list of tuples like [(or_word1, pos_tag1, isl_word1), (or_word2, pos_tag2, isl_word2), ...]\n",
    "    for or_word, pos_tag, isl_word in final_isl_list:\n",
    "        video_name = f\"{isl_word.capitalize()}.mp4\"\n",
    "        if pos_tag == 'pnoun':  # Alphabets and FingerSpell\n",
    "            for letter in isl_word:\n",
    "                video_name = f\"{letter.capitalize()}.mp4\"\n",
    "                for root, dirs, files in os.walk(folder_path):\n",
    "                    full_path = os.path.join(root, video_name)\n",
    "                    if os.path.isfile(full_path):\n",
    "                        found_videos.append(full_path)\n",
    "        elif isl_word=='#':\n",
    "            for char in or_word:\n",
    "                if char in sign_mapping_vowels.keys():\n",
    "                    video_name = f\"{sign_mapping_vowels[char]}.mp4\"\n",
    "                else:\n",
    "                    video_name = f\"{char}.mp4\"\n",
    "                for root, dirs, files in os.walk(folder_path):\n",
    "                    full_path = os.path.join(root, video_name)\n",
    "                    if os.path.isfile(full_path):\n",
    "                        found_videos.append(full_path)\n",
    "        elif isl_word[0]=='@':         # Special Words are handled here\n",
    "            found_videos.append(isl_word[1:])\n",
    "        else:\n",
    "            for root, dirs, files in os.walk(folder_path):\n",
    "                full_path = os.path.join(root, video_name)\n",
    "                if os.path.isfile(full_path):\n",
    "                    found_videos.append(full_path)\n",
    "\n",
    "    return found_videos\n",
    "\n",
    "\n",
    "def play_videos(video_paths):\n",
    "    vlc_path = r'C:\\Program Files\\VideoLAN\\VLC\\vlc.exe'  # Path to VLC media player executable\n",
    "    for video_path in video_paths:\n",
    "        subprocess.Popen([vlc_path, '--fullscreen', video_path])\n",
    "        time.sleep(5)  # Delay before playing the next video"
   ]
  },
  {
   "cell_type": "markdown",
   "id": "79086730-2fda-46d2-bb7a-d10c9357455e",
   "metadata": {},
   "source": [
    "# Set Folder Path where ISL videos are there"
   ]
  },
  {
   "cell_type": "code",
   "execution_count": 31,
   "id": "f34f5062-592d-4673-8931-c9b9a8a84383",
   "metadata": {},
   "outputs": [
    {
     "name": "stderr",
     "output_type": "stream",
     "text": [
      "<>:2: SyntaxWarning: invalid escape sequence '\\d'\n",
      "<>:2: SyntaxWarning: invalid escape sequence '\\d'\n",
      "C:\\Users\\user\\AppData\\Local\\Temp\\ipykernel_11368\\2289752906.py:2: SyntaxWarning: invalid escape sequence '\\d'\n",
      "  folder_path = 'D:\\desktop\\project\\Linguistic'\n"
     ]
    }
   ],
   "source": [
    "# Set it accordingly\n",
    "folder_path = 'D:\\desktop\\project\\Linguistic'"
   ]
  },
  {
   "cell_type": "code",
   "execution_count": 32,
   "id": "72107c58-36dd-4bf2-b396-1b2e4c5b7529",
   "metadata": {},
   "outputs": [],
   "source": [
    "video_paths = search_videos(folder_path, final_isl_list)"
   ]
  },
  {
   "cell_type": "code",
   "execution_count": 37,
   "id": "072f48c5-87c7-46e7-954c-07a78e698a9b",
   "metadata": {},
   "outputs": [
    {
     "ename": "ModuleNotFoundError",
     "evalue": "No module named 'moviepy.editor'",
     "output_type": "error",
     "traceback": [
      "\u001b[31m---------------------------------------------------------------------------\u001b[39m",
      "\u001b[31mModuleNotFoundError\u001b[39m                       Traceback (most recent call last)",
      "\u001b[36mCell\u001b[39m\u001b[36m \u001b[39m\u001b[32mIn[37]\u001b[39m\u001b[32m, line 1\u001b[39m\n\u001b[32m----> \u001b[39m\u001b[32m1\u001b[39m \u001b[38;5;28;01mfrom\u001b[39;00m\u001b[38;5;250m \u001b[39m\u001b[34;01mmoviepy\u001b[39;00m\u001b[34;01m.\u001b[39;00m\u001b[34;01meditor\u001b[39;00m\u001b[38;5;250m \u001b[39m\u001b[38;5;28;01mimport\u001b[39;00m VideoFileClip, concatenate_videoclips\n\u001b[32m      2\u001b[39m vlc_path = \u001b[33mr\u001b[39m\u001b[33m'\u001b[39m\u001b[33mC:\u001b[39m\u001b[33m\\\u001b[39m\u001b[33mProgram Files\u001b[39m\u001b[33m\\\u001b[39m\u001b[33mVideoLAN\u001b[39m\u001b[33m\\\u001b[39m\u001b[33mVLC\u001b[39m\u001b[33m\\\u001b[39m\u001b[33mvlc.exe\u001b[39m\u001b[33m'\u001b[39m \n\u001b[32m      3\u001b[39m \u001b[38;5;28;01mdef\u001b[39;00m\u001b[38;5;250m \u001b[39m\u001b[34mmerge_videos\u001b[39m(video_paths):\n",
      "\u001b[31mModuleNotFoundError\u001b[39m: No module named 'moviepy.editor'"
     ]
    }
   ],
   "source": [
    "from moviepy.editor import VideoFileClip, concatenate_videoclips\n",
    "vlc_path = r'C:\\Program Files\\VideoLAN\\VLC\\vlc.exe' \n",
    "def merge_videos(video_paths):\n",
    "    clips = [VideoFileClip(path) for path in video_paths]\n",
    "    final_clip = concatenate_videoclips(clips, method=\"compose\")\n",
    "    return final_clip\n",
    "\n",
    "# Merge the videos into a single video\n",
    "merged_clip = merge_videos(video_paths)\n",
    "\n",
    "\n",
    "# Export the merged video to a file\n",
    "merged_clip.write_videofile(\"merged_video.mp4\")\n",
    "\n",
    "# Play the merged video\n",
    "subprocess.Popen([vlc_path, '--fullscreen', 'merged_video.mp4'])"
   ]
  },
  {
   "cell_type": "markdown",
   "id": "dad233a8-4ba9-485f-b44b-f4601cfdda21",
   "metadata": {},
   "source": [
    "# Hope You Like the project. :D"
   ]
  }
 ],
 "metadata": {
  "kernelspec": {
   "display_name": "Python 3",
   "language": "python",
   "name": "python3"
  },
  "language_info": {
   "codemirror_mode": {
    "name": "ipython",
    "version": 3
   },
   "file_extension": ".py",
   "mimetype": "text/x-python",
   "name": "python",
   "nbconvert_exporter": "python",
   "pygments_lexer": "ipython3",
   "version": "3.13.2"
  }
 },
 "nbformat": 4,
 "nbformat_minor": 5
}
